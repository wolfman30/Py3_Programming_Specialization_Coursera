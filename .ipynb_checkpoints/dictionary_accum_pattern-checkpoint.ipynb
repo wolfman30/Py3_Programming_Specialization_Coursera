{
 "cells": [
  {
   "cell_type": "markdown",
   "metadata": {},
   "source": [
    "Provided is a string saved to the variable name <code style=color:darkred>sentence</code>. Split the string into a list of words, then create a dictionary that contains each word and the number of times it occurs. Save this dictionary to the variable name <code style=color:darkred>word_counts</code>."
   ]
  },
  {
   "cell_type": "code",
   "execution_count": 3,
   "metadata": {},
   "outputs": [
    {
     "name": "stdout",
     "output_type": "stream",
     "text": [
      "{'The': 1, 'dog': 1, 'chased': 1, 'the': 3, 'rabbit': 2, 'into': 1, 'forest': 1, 'but': 1, 'was': 1, 'too': 1, 'quick.': 1}\n"
     ]
    }
   ],
   "source": [
    "sentence = \"The dog chased the rabbit into the forest but the rabbit was too quick.\"\n",
    "\n",
    "#my code below\n",
    "word_lst = sentence.split()\n",
    "\n",
    "word_counts = {}\n",
    "for word in word_lst: \n",
    "    if word not in word_counts: \n",
    "        word_counts[word] = 0 #if the key does not exist in dictionary, initialize it to zero\n",
    "    word_counts[word] += 1 #outside the loop the key is updated by increments of 1 each key occurrence\n",
    "    \n",
    "print(word_counts)"
   ]
  },
  {
   "cell_type": "markdown",
   "metadata": {},
   "source": [
    "Create a dictionary called <code style=color:darkred>char_d</code> from the string <code style=color:darkred>stri</code>, so that the key is a character and the value is how many times it occurs.\n",
    "\n"
   ]
  },
  {
   "cell_type": "code",
   "execution_count": 4,
   "metadata": {},
   "outputs": [
    {
     "name": "stdout",
     "output_type": "stream",
     "text": [
      "{'w': 1, 'h': 1, 'a': 2, 't': 1, ' ': 3, 'c': 1, 'n': 1, 'I': 1, 'd': 1, 'o': 1}\n"
     ]
    }
   ],
   "source": [
    "stri = \"what can I do\"\n",
    "\n",
    "#my code below\n",
    "char_d = {}\n",
    "for char in stri: \n",
    "    if char not in char_d: \n",
    "        char_d[char] = 0\n",
    "    char_d[char] += 1\n",
    "    \n",
    "print(char_d)\n"
   ]
  },
  {
   "cell_type": "markdown",
   "metadata": {},
   "source": [
    " The dictionary <code style='color:red'>travel</code> contains the number of countries within each continent that Jackie has traveled to. Find the total number of countries that Jackie has been to, and save this number to the variable name <code style=\"color:red\">total</code>. Do not hard code this!"
   ]
  },
  {
   "cell_type": "code",
   "execution_count": 7,
   "metadata": {},
   "outputs": [
    {
     "name": "stdout",
     "output_type": "stream",
     "text": [
      "19 countries\n"
     ]
    }
   ],
   "source": [
    "travel = {\"North America\": 2, \"Europe\": 8, \"South America\": 3, \"Asia\": 4, \"Africa\":1, \"Antarctica\": 0, \"Australia\": 1}\n",
    "\n",
    "total = 0 \n",
    "for num_countries in travel.values(): \n",
    "    total += num_countries\n",
    "    \n",
    "print(total, \"countries\")"
   ]
  },
  {
   "cell_type": "markdown",
   "metadata": {},
   "source": [
    "schedule is a dictionary where a class name is a key and its value is how many credits it was worth. Go through and accumulate the total number of credits that have been earned so far and assign that to the variable total_credits. Do not hardcode."
   ]
  },
  {
   "cell_type": "code",
   "execution_count": 8,
   "metadata": {},
   "outputs": [
    {
     "name": "stdout",
     "output_type": "stream",
     "text": [
      "63\n"
     ]
    }
   ],
   "source": [
    "schedule = {\"UARTS 150\": 3, \"SPANISH 103\": 4, \"ENGLISH 125\": 4, \"SI 110\": 4, \"ENS 356\": 2, \"WOMENSTD 240\": 4, \"SI 106\": 4, \"BIO 118\": 3, \"SPANISH 231\": 4, \"PSYCH 111\": 4, \"LING 111\": 3, \"SPANISH 232\": 4, \"STATS 250\": 4, \"SI 206\": 4, \"COGSCI 200\": 4, \"AMCULT 202\": 4, \"ANTHRO 101\": 4}\n",
    "\n",
    "total_credits = 0 \n",
    "for credit in schedule.values():\n",
    "    total_credits += credit\n",
    "    \n",
    "print(total_credits)"
   ]
  },
  {
   "cell_type": "markdown",
   "metadata": {},
   "source": [
    " Create a dictionary called d that keeps track of all the characters in the string placement and notes how many times each character was seen. Then, find the key with the lowest value in this dictionary and assign that key to min_value."
   ]
  },
  {
   "cell_type": "code",
   "execution_count": 10,
   "metadata": {},
   "outputs": [
    {
     "name": "stdout",
     "output_type": "stream",
     "text": [
      "{'B': 2, 'e': 17, 'a': 12, 'c': 8, 'h': 4, 's': 10, ' ': 27, 'r': 7, 'o': 10, 'l': 8, 'p': 6, 't': 8, 'v': 3, 'i': 13, 'n': 7, 'g': 2, 'w': 3, 'M': 3, 'k': 2, 'd': 2, '.': 2, 'x': 1}\n"
     ]
    }
   ],
   "source": [
    "placement = \"Beaches are cool places to visit in spring however the Mackinaw Bridge is near. Most people visit Mackinaw later since the island is a cool place to explore.\"\n",
    "\n",
    "#initialize dictionary d as an empty dictionary\n",
    "d = {}\n",
    "for character in placement: #this creates the dictionary d\n",
    "    if character not in d: \n",
    "        d[character] = 0 #if character is not in dict, intializes to zero\n",
    "    d[character] += 1 #after initalizing to zero, increments by 1 every occurrence\n",
    "print(d)\n",
    "\n",
    "#after creating dictionary d, now we have to find the key with associate min value\n",
    "keys = list(d.keys())\n",
    "min_value = keys[0] #initialize min value to first key \n",
    "for key in keys: \n",
    "    if d[key] < d[min_value]: \n",
    "        min_value = key\n",
    "    "
   ]
  },
  {
   "cell_type": "markdown",
   "metadata": {},
   "source": [
    "Create a dictionary called lett_d that keeps track of all of the characters in the string product and notes how many times each character was seen. Then, find the key with the highest value in this dictionary and assign that key to max_value."
   ]
  },
  {
   "cell_type": "code",
   "execution_count": 12,
   "metadata": {},
   "outputs": [
    {
     "name": "stdout",
     "output_type": "stream",
     "text": [
      "{'i': 2, 'p': 2, 'h': 2, 'o': 3, 'n': 4, 'e': 2, ' ': 3, 'a': 2, 'd': 3, 'r': 1, 's': 1}\n"
     ]
    }
   ],
   "source": [
    "product = \"iphone and android phones\"\n",
    "#doing the same thing here as done in min_value problem except for max_value\n",
    "lett_d = {}\n",
    "\n",
    "for character in product: \n",
    "    if character not in lett_d:\n",
    "        lett_d[character] = 0 \n",
    "    lett_d[character] += 1\n",
    "print(lett_d)\n",
    "\n",
    "keys = list(lett_d.keys())\n",
    "max_value = keys[0]\n",
    "\n",
    "for key in keys:\n",
    "    if lett_d[key] > lett_d[max_value]:\n",
    "        max_value = key "
   ]
  },
  {
   "cell_type": "code",
   "execution_count": null,
   "metadata": {},
   "outputs": [],
   "source": []
  }
 ],
 "metadata": {
  "kernelspec": {
   "display_name": "Python 3",
   "language": "python",
   "name": "python3"
  },
  "language_info": {
   "codemirror_mode": {
    "name": "ipython",
    "version": 3
   },
   "file_extension": ".py",
   "mimetype": "text/x-python",
   "name": "python",
   "nbconvert_exporter": "python",
   "pygments_lexer": "ipython3",
   "version": "3.7.1"
  }
 },
 "nbformat": 4,
 "nbformat_minor": 2
}
