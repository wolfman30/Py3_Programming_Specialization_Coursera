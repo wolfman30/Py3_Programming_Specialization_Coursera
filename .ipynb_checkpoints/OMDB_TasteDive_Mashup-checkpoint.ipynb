{
 "cells": [
  {
   "cell_type": "markdown",
   "metadata": {},
   "source": [
    "This project will take you through the process of mashing up data from two different APIs to make movie recommendations. The TasteDive API lets you provide a movie (or bands, TV shows, etc.) as a query input, and returns a set of related items. The OMDB API lets you provide a movie title as a query input and get back data about the movie, including scores from various review sites (Rotten Tomatoes, IMDB, etc.).\n",
    "\n",
    "You will put those two together. You will use TasteDive to get related movies for a whole list of titles. You’ll combine the resulting lists of related movies, and sort them according to their Rotten Tomatoes scores (which will require making API calls to the OMDB API.)\n",
    "\n",
    "To avoid problems with rate limits and site accessibility, we have provided a cache file with results for all the queries you need to make to both OMDB and TasteDive. Just use requests_with_caching.get() rather than requests.get(). If you’re having trouble, you may not be formatting your queries properly, or you may not be asking for data that exists in our cache. We will try to provide as much information as we can to help guide you to form queries for which data exists in the cache.\n",
    "\n",
    "Your first task will be to fetch data from TasteDive. The documentation for the API is at https://tastedive.com/read/api.\n",
    "\n",
    "Define a function, called get_movies_from_tastedive. It should take one input parameter, a string that is the name of a movie or music artist. The function should return the 5 TasteDive results that are associated with that string; be sure to only get movies, not other kinds of media. It will be a python dictionary with just one key, ‘Similar’.\n",
    "\n",
    "Try invoking your function with the input “Black Panther”.\n",
    "\n",
    "HINT: Be sure to include only q, type, and limit as parameters in order to extract data from the cache. If any other parameters are included, then the function will not be able to recognize the data that you’re attempting to pull from the cache. Remember, you will not need an api key in order to complete the project, because all data will be found in the cache."
   ]
  },
  {
   "cell_type": "code",
   "execution_count": 2,
   "metadata": {},
   "outputs": [],
   "source": [
    "import requests_with_caching, json\n",
    "\n",
    "def get_movies_from_tastedive(movie):\n",
    "    base_url = 'https://tastedive.com/api/similar'\n",
    "    param_dict = {}\n",
    "    param_dict['q'] = movie\n",
    "    param_dict['type'] = 'movies'\n",
    "    param_dict['limit'] = 5\n",
    "    results = requests_with_caching.get(base_url, params=param_dict)\n",
    "    print(results.json())\n",
    "    return results.json()\n",
    "\n",
    "# some invocations that we use in the automated tests; uncomment these if you are getting errors and want better error messages\n",
    "results = get_movies_from_tastedive(\"Bridesmaids\")\n",
    "print(results['Similar']['Results'])\n",
    "#get_movies_from_tastedive(\"Black Panther\")\n",
    "\n"
   ]
  },
  {
   "cell_type": "markdown",
   "metadata": {},
   "source": [
    "Please copy the completed function from above into this active code window. Next, you will need to write a function that extracts just the list of movie titles from a dictionary returned by get_movies_from_tastedive. Call it extract_movie_titles."
   ]
  },
  {
   "cell_type": "code",
   "execution_count": null,
   "metadata": {},
   "outputs": [],
   "source": [
    "import requests_with_caching, json\n",
    "\n",
    "def get_movies_from_tastedive(movie):\n",
    "    base_url = 'https://tastedive.com/api/similar'\n",
    "    param_dict = {}\n",
    "    param_dict['q'] = movie\n",
    "    param_dict['type'] = 'movies'\n",
    "    param_dict['limit'] = 5\n",
    "    results = requests_with_caching.get(base_url, params=param_dict)\n",
    "    print(results.json())\n",
    "    return results.json()\n",
    "\n",
    "def extract_movie_titles(json_item):\n",
    "    movie_titles = []\n",
    "    for d in json_item['Similar']['Results']:\n",
    "        movie_titles.append(d['Name'])\n",
    "    print(movie_titles)\n",
    "    return movie_titles"
   ]
  },
  {
   "cell_type": "markdown",
   "metadata": {},
   "source": [
    "Please copy the completed functions from the two code windows above into this active code window. Next, you’ll write a function, called get_related_titles. It takes a list of movie titles as input. It gets five related movies for each from TasteDive, extracts the titles for all of them, and combines them all into a single list. Don’t include the same movie twice."
   ]
  },
  {
   "cell_type": "code",
   "execution_count": 10,
   "metadata": {},
   "outputs": [],
   "source": [
    "import requests_with_caching, json\n",
    "\n",
    "def get_movies_from_tastedive(movie):\n",
    "    base_url = 'https://tastedive.com/api/similar'\n",
    "    param_dict = {}\n",
    "    param_dict['q'] = movie\n",
    "    param_dict['type'] = 'movies'\n",
    "    param_dict['limit'] = 5\n",
    "    results = requests_with_caching.get(base_url, params=param_dict)\n",
    "    print(results.json())\n",
    "    return results.json()\n",
    "\n",
    "def extract_movie_titles(json_item):\n",
    "    \n",
    "    movie_titles = []\n",
    "    for d in json_item['Similar']['Results']:\n",
    "        movie_titles.append(d['Name'])\n",
    "        \n",
    "    print(movie_titles)\n",
    "    \n",
    "    return movie_titles\n",
    "\n",
    "def get_related_titles(movie_list):\n",
    "    mashup_list = []\n",
    "    for movie in movie_list:\n",
    "        movie_info = get_movies_from_tastedive(movie)\n",
    "        five_movies = extract_movie_titles(movie_info)\n",
    "        mashup_list.extend(five_movies)\n",
    "    mashup_list = list(set(mashup_list))\n",
    "    print('\\n', mashup_list)\n",
    "    return mashup_list\n",
    "        \n",
    "# some invocations that we use in the automated tests; uncomment these if you are getting errors and want better error messages\n",
    "# get_related_titles([\"Black Panther\", \"Captain Marvel\"])\n",
    "# get_related_titles([])\n",
    "\n"
   ]
  },
  {
   "cell_type": "markdown",
   "metadata": {},
   "source": [
    "Your next task will be to fetch data from OMDB. The documentation for the API is at https://www.omdbapi.com/\n",
    "\n",
    "Define a function called get_movie_data. It takes in one parameter which is a string that should represent the title of a movie you want to search. The function should return a dictionary with information about that movie.\n",
    "\n",
    "Again, use requests_with_caching.get(). For the queries on movies that are already in the cache, you won’t need an api key. You will need to provide the following keys: t and r. As with the TasteDive cache, be sure to only include those two parameters in order to extract existing data from the cache."
   ]
  },
  {
   "cell_type": "code",
   "execution_count": 12,
   "metadata": {},
   "outputs": [],
   "source": [
    "import requests_with_caching, json \n",
    "\n",
    "def get_movie_data(movie_title): \n",
    "    base_url = 'http://www.omdbapi.com/'\n",
    "    param_dict = {}\n",
    "    param_dict['t'] = movie_title\n",
    "    param_dict['r'] = 'json'\n",
    "    movie_data = requests_with_caching.get(base_url, params=param_dict)\n",
    "    return movie_data.json()\n",
    "\n",
    "# some invocations that we use in the automated tests; uncomment these if you are getting errors and want better error messages\n",
    "print(get_movie_data(\"Deadpool 2\")['Ratings'])\n",
    "get_movie_data(\"Baby Mama\")\n",
    "\n"
   ]
  },
  {
   "cell_type": "markdown",
   "metadata": {},
   "source": [
    "Please copy the completed function from above into this active code window. Now write a function called get_movie_rating. It takes an OMDB dictionary result for one movie and extracts the Rotten Tomatoes rating as an integer. For example, if given the OMDB dictionary for “Black Panther”, it would return 97. If there is no Rotten Tomatoes rating, return 0."
   ]
  },
  {
   "cell_type": "code",
   "execution_count": 14,
   "metadata": {},
   "outputs": [],
   "source": [
    "import requests_with_caching, json \n",
    "\n",
    "def get_movie_data(movie_title): \n",
    "    base_url = 'http://www.omdbapi.com/'\n",
    "    param_dict = {}\n",
    "    param_dict['t'] = movie_title\n",
    "    param_dict['r'] = 'json'\n",
    "    movie_data = requests_with_caching.get(base_url, params=param_dict)\n",
    "    return movie_data.json()\n",
    "\n",
    "def get_movie_rating(movie_data): \n",
    "    for rating_dict in movie_data['Ratings']:\n",
    "        print(rating_dict)\n",
    "        if rating_dict['Source'] == 'Rotten Tomatoes':\n",
    "            return int(rating_dict['Value'][:2])\n",
    "    return 0\n",
    "\n",
    "# some invocations that we use in the automated tests; uncomment these if you are getting errors and want better error messages\n",
    "print(get_movie_data('Deadpool 2'))\n",
    "print(get_movie_rating(get_movie_data(\"Deadpool 2\")))\n",
    "\n"
   ]
  },
  {
   "cell_type": "markdown",
   "metadata": {},
   "source": [
    "Now, you’ll put it all together. Don’t forget to copy all of the functions that you have previously defined into this code window. Define a function get_sorted_recommendations. It takes a list of movie titles as an input. It returns a sorted list of related movie titles as output, up to five related movies for each input movie title. The movies should be sorted in descending order by their Rotten Tomatoes rating, as returned by the get_movie_rating function. Break ties in reverse alphabetic order, so that ‘Yahşi Batı’ comes before ‘Eyyvah Eyvah’."
   ]
  },
  {
   "cell_type": "code",
   "execution_count": null,
   "metadata": {},
   "outputs": [],
   "source": [
    "import requests_with_caching, json \n",
    "\n",
    "def get_movies_from_tastedive(movie):\n",
    "    \n",
    "    base_url = 'https://tastedive.com/api/similar'\n",
    "    param_dict = {}\n",
    "    param_dict['q'] = movie\n",
    "    param_dict['type'] = 'movies'\n",
    "    param_dict['limit'] = 5\n",
    "    results = requests_with_caching.get(base_url, params=param_dict)\n",
    "    print(results.json())\n",
    "    \n",
    "    return results.json()\n",
    "\n",
    "def extract_movie_titles(json_item):\n",
    "    \n",
    "    movie_titles = []\n",
    "    for d in json_item['Similar']['Results']:\n",
    "        movie_titles.append(d['Name'])\n",
    "        \n",
    "    print(movie_titles)\n",
    "    \n",
    "    return movie_titles\n",
    "\n",
    "def get_related_titles(movie_list):\n",
    "    mashup_list = []\n",
    "    for movie in movie_list:\n",
    "        movie_info = get_movies_from_tastedive(movie)\n",
    "        five_movies = extract_movie_titles(movie_info)\n",
    "        mashup_list.extend(five_movies)\n",
    "    mashup_list = list(set(mashup_list)) #set() makes sure each element only occurs once\n",
    "    print('\\n', mashup_list)\n",
    "    return mashup_list\n",
    "\n",
    "\n",
    "def get_movie_data(movie_title): \n",
    "    base_url = 'http://www.omdbapi.com/'\n",
    "    param_dict = {}\n",
    "    param_dict['t'] = movie_title\n",
    "    param_dict['r'] = 'json'\n",
    "    movie_data = requests_with_caching.get(base_url, params=param_dict)\n",
    "    return movie_data.json()\n",
    "\n",
    "def get_movie_rating(movie_data): \n",
    "    for rating_dict in movie_data['Ratings']:\n",
    "        print(rating_dict)\n",
    "        if rating_dict['Source'] == 'Rotten Tomatoes':\n",
    "            return int(rating_dict['Value'][:2])\n",
    "    return 0\n",
    "\n",
    "def get_sorted_recommendations(movie_list):\n",
    "    list_to_sort = []\n",
    "    related_movies = get_related_titles(movie_list)\n",
    "    for title in related_movies: \n",
    "        rating = get_movie_rating(get_movie_data(title))\n",
    "        list_to_sort.append((rating, title))\n",
    "    assorted_list = sorted(list_to_sort, reverse=True)\n",
    "    final_list = [list[1] for list in assorted_list]\n",
    "    return final_list \n",
    "# some invocations that we use in the automated tests; uncomment these if you are getting errors and want better error messages\n",
    "# get_sorted_recommendations([\"Bridesmaids\", \"Sherlock Holmes\"])\n",
    "\n"
   ]
  },
  {
   "cell_type": "code",
   "execution_count": null,
   "metadata": {},
   "outputs": [],
   "source": []
  }
 ],
 "metadata": {
  "kernelspec": {
   "display_name": "Python 3",
   "language": "python",
   "name": "python3"
  },
  "language_info": {
   "codemirror_mode": {
    "name": "ipython",
    "version": 3
   },
   "file_extension": ".py",
   "mimetype": "text/x-python",
   "name": "python",
   "nbconvert_exporter": "python",
   "pygments_lexer": "ipython3",
   "version": "3.7.1"
  }
 },
 "nbformat": 4,
 "nbformat_minor": 2
}
