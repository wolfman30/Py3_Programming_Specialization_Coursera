{
 "cells": [
  {
   "cell_type": "markdown",
   "metadata": {},
   "source": [
    "Create a dictionary that keeps track of the USA’s Olympic medal count. Each key of the dictionary should be the type of medal (gold, silver, or bronze) and each key’s value should be the number of that type of medal the USA’s won. Currently, the USA has 33 gold medals, 17 silver, and 12 bronze. Create a dictionary saved in the variable <code style=color:darkred>medals</code> that reflects this information."
   ]
  },
  {
   "cell_type": "code",
   "execution_count": 1,
   "metadata": {},
   "outputs": [],
   "source": [
    "medals = {'gold': 33, 'silver': 17, 'bronze': 12}"
   ]
  },
  {
   "cell_type": "code",
   "execution_count": 3,
   "metadata": {},
   "outputs": [
    {
     "name": "stdout",
     "output_type": "stream",
     "text": [
      "33 17 12\n"
     ]
    }
   ],
   "source": [
    "print(medals['gold'], medals['silver'], medals['bronze'])"
   ]
  },
  {
   "cell_type": "markdown",
   "metadata": {},
   "source": [
    "You are keeping track of olympic medals for Italy in the 2016 Rio Summer Olympics! At the moment, Italy has 7 gold medals, 8 silver metals, and 6 bronze medals. Create a dictionary called <code style=color:darkred>olympics</code> where the keys are the types of medals, and the values are the number of that type of medals that Italy has won so far."
   ]
  },
  {
   "cell_type": "code",
   "execution_count": 4,
   "metadata": {},
   "outputs": [],
   "source": [
    "olympics = {'gold': 7} \n",
    "olympics['silver'] = 8 #creates key 'silver' and corresponding value of integer 8\n",
    "olympics['bronze'] = 6 #creates key 'bronze' and corresponding value of integer 6"
   ]
  },
  {
   "cell_type": "code",
   "execution_count": 5,
   "metadata": {},
   "outputs": [
    {
     "data": {
      "text/plain": [
       "{'gold': 7, 'silver': 8, 'bronze': 6}"
      ]
     },
     "execution_count": 5,
     "metadata": {},
     "output_type": "execute_result"
    }
   ],
   "source": [
    "olympics"
   ]
  },
  {
   "cell_type": "markdown",
   "metadata": {},
   "source": [
    "Update the value for “Phelps” in the dictionary <code style=color:darkred>swimmers</code> to include his medals from the Rio Olympics by adding 5 to the current value (Phelps will now have 28 total medals). Do not rewrite the dictionary."
   ]
  },
  {
   "cell_type": "code",
   "execution_count": 6,
   "metadata": {},
   "outputs": [
    {
     "data": {
      "text/plain": [
       "{'Manuel': 4,\n",
       " 'Lochte': 12,\n",
       " 'Adrian': 7,\n",
       " 'Ledecky': 5,\n",
       " 'Dirado': 4,\n",
       " 'Phelps': 28}"
      ]
     },
     "execution_count": 6,
     "metadata": {},
     "output_type": "execute_result"
    }
   ],
   "source": [
    "swimmers = {'Manuel':4, 'Lochte':12, 'Adrian':7, 'Ledecky':5, 'Dirado':4, 'Phelps':23}\n",
    "\n",
    "#my code\n",
    "swimmers['Phelps'] += 5 #updates Phelps value to 28 by adding 5 \n",
    "\n",
    "swimmers"
   ]
  },
  {
   "cell_type": "markdown",
   "metadata": {},
   "source": [
    "Every four years, the summer Olympics are held in a different country. Add a key-value pair to the dictionary <code style=color:darkred>places</code> that reflects that the 2016 Olympics were held in Brazil. Do not rewrite the entire dictionary to do this!"
   ]
  },
  {
   "cell_type": "code",
   "execution_count": 8,
   "metadata": {},
   "outputs": [
    {
     "name": "stdout",
     "output_type": "stream",
     "text": [
      "{'Australia': 2000, 'Greece': 2004, 'China': 2008, 'England': 2012, 'Brazil': 2016}\n"
     ]
    }
   ],
   "source": [
    "places = {\"Australia\":2000, \"Greece\":2004, \"China\":2008, \"England\":2012}\n",
    "\n",
    "#my code below\n",
    "places['Brazil'] = 2016\n",
    "\n",
    "print(places)"
   ]
  },
  {
   "cell_type": "markdown",
   "metadata": {},
   "source": [
    "We have a dictionary of the specific events that Italy has won medals in and the number of medals they have won for each event. Assign to the variable <code style=color:darkred>events</code> a list of the keys from the dictionary <code style=color:darkred>medal_events</code>. Do not hard code this."
   ]
  },
  {
   "cell_type": "code",
   "execution_count": 9,
   "metadata": {},
   "outputs": [
    {
     "data": {
      "text/plain": [
       "['Shooting', 'Fencing', 'Judo', 'Swimming', 'Diving']"
      ]
     },
     "execution_count": 9,
     "metadata": {},
     "output_type": "execute_result"
    }
   ],
   "source": [
    "medal_events = {'Shooting': 7, 'Fencing': 4, 'Judo': 2, 'Swimming': 3, 'Diving': 2}\n",
    "\n",
    "events = list(medal_events.keys())\n",
    "\n",
    "events"
   ]
  },
  {
   "cell_type": "code",
   "execution_count": null,
   "metadata": {},
   "outputs": [],
   "source": []
  }
 ],
 "metadata": {
  "kernelspec": {
   "display_name": "Python 3",
   "language": "python",
   "name": "python3"
  },
  "language_info": {
   "codemirror_mode": {
    "name": "ipython",
    "version": 3
   },
   "file_extension": ".py",
   "mimetype": "text/x-python",
   "name": "python",
   "nbconvert_exporter": "python",
   "pygments_lexer": "ipython3",
   "version": "3.7.1"
  }
 },
 "nbformat": 4,
 "nbformat_minor": 2
}
