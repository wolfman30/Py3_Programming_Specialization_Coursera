{
 "cells": [
  {
   "cell_type": "markdown",
   "metadata": {},
   "source": [
    "Below are a set of scores that students have received in the past semester. Write code to determine how many are 90 or above and assign that result to the value <code>a_scores</code>."
   ]
  },
  {
   "cell_type": "code",
   "execution_count": 3,
   "metadata": {},
   "outputs": [
    {
     "name": "stdout",
     "output_type": "stream",
     "text": [
      "10\n"
     ]
    }
   ],
   "source": [
    "scores = \"67 80 90 78 93 20 79 89 96 97 92 88 79 68 58 90 98 100 79 74 83 88 80 86 85 70 90 100\"\n",
    "#scores.split() creates a list of strings separated based on the space between the strings\n",
    "scores = [int(score) for score in scores.split()] #converts string into integer for every string in list of scores\n",
    "\n",
    "a_scores = 0 #accumulator variable\n",
    "\n",
    "for score in scores: \n",
    "    if score >= 90:\n",
    "        a_scores += 1\n",
    "        \n",
    "print(a_scores)"
   ]
  },
  {
   "cell_type": "markdown",
   "metadata": {},
   "source": [
    "Write code that uses the string stored in <code style=color:darkred>org</code> and creates an acronym which is assigned to the variable <code style = color:darkred>acro</code>. Only the first letter of each word should be used, each letter in the acronym should be a capital letter, and there should be nothing to separate the letters of the acronym. Words that should not be included in the acronym are stored in the list <code style=color:darkred>stopwords</code>. For example, if <code style=color:darkred>org</code> was assigned the string <code style=color:darkred>\"hello to world\"</code> then the resulting acronym should be <code style=color:darkred>\"HW\"</code>."
   ]
  },
  {
   "cell_type": "code",
   "execution_count": 7,
   "metadata": {},
   "outputs": [
    {
     "name": "stdout",
     "output_type": "stream",
     "text": [
      "OHSE\n"
     ]
    }
   ],
   "source": [
    "stopwords = ['to', 'a', 'for', 'by', 'an', 'am', 'the', 'so', 'it', 'and', \"The\"]\n",
    "org = \"The organization for health, safety, and education\".split() #I added the .split()\n",
    "acro = ''\n",
    "\n",
    "for word in org: \n",
    "    if word not in stopwords:\n",
    "        acro += word[0].upper()\n",
    "        \n",
    "print(acro)"
   ]
  },
  {
   "cell_type": "markdown",
   "metadata": {},
   "source": [
    "Write code that uses the string stored in <code style='color:darkred'>sent</code> and creates an acronym which is assigned to the variable <code style=color:darkred>acro</code>. The first two letters of each word should be used, each letter in the acronym should be a capital letter, and each element of the acronym should be separated by a <code style=color:darkred>\". \"</code>(dot and space). Words that should not be included in the acronym are stored in the list <code style=color:darkred>stopwords</code>. For example, if sent was assigned the string <code style=color:darkred>\"height and ewok wonder\"</code> then the resulting acronym should be “HE. EW. WO”."
   ]
  },
  {
   "cell_type": "code",
   "execution_count": 8,
   "metadata": {},
   "outputs": [
    {
     "name": "stdout",
     "output_type": "stream",
     "text": [
      "WA. EA. AI. AR. VI\n"
     ]
    }
   ],
   "source": [
    "stopwords = ['to', 'a', 'for', 'by', 'an', 'am', 'the', 'so', 'it', 'and', 'The']\n",
    "sent = \"The water earth and air are vital\".split() #I added the .split() \n",
    "acro = []\n",
    "\n",
    "for word in sent: \n",
    "    if word not in stopwords: \n",
    "        acro.append(word[:2].upper())\n",
    "        \n",
    "acro = \". \".join(acro)\n",
    "print(acro)"
   ]
  },
  {
   "cell_type": "markdown",
   "metadata": {},
   "source": [
    "A palindrome is a phrase that, if reversed, would read the exact same. Write code that checks if <code style=color:darkred>p_phrase</code> is a palindrome by reversing it and then checking if the reversed version is equal to the original. Assign the reversed version of <code style=color:darkred>p_phrase</code> to the variable <code style=color:darkred>r_phrase</code> so that we can check your work."
   ]
  },
  {
   "cell_type": "code",
   "execution_count": 10,
   "metadata": {},
   "outputs": [
    {
     "name": "stdout",
     "output_type": "stream",
     "text": [
      "was I tac a ro rac a ti saw\n"
     ]
    },
    {
     "data": {
      "text/plain": [
       "False"
      ]
     },
     "execution_count": 10,
     "metadata": {},
     "output_type": "execute_result"
    }
   ],
   "source": [
    "p_phrase = \"was it a car or a cat I saw\"\n",
    "\n",
    "r_phrase = p_phrase[::-1]\n",
    "\n",
    "print(r_phrase)\n",
    "\n",
    "r_phrase == p_phrase"
   ]
  },
  {
   "cell_type": "markdown",
   "metadata": {},
   "source": [
    "Provided is a list of data about a store’s inventory where each item in the list represents the name of an item, how much is in stock, and how much it costs. Print out each item in the list with the same formatting, using the .format method (not string concatenation). For example, the first print statment should read <code style=color:darkred>The store has 12 shoes, each for 29.99 USD.</code>"
   ]
  },
  {
   "cell_type": "code",
   "execution_count": null,
   "metadata": {},
   "outputs": [],
   "source": [
    "inventory = [\"shoes, 12, 29.99\", \"shirts, 20, 9.99\", \"sweatpants, 25, 15.00\", \"scarves, 13, 7.75\"]\n",
    "\n",
    "for item in inventory: \n",
    "    item = item.split(\", \")\n",
    "    print(\"The store has {} {}, each for {} USD.\".format(item[1], item[0], item[2]))\n",
    "\n"
   ]
  }
 ],
 "metadata": {
  "kernelspec": {
   "display_name": "Python 3",
   "language": "python",
   "name": "python3"
  },
  "language_info": {
   "codemirror_mode": {
    "name": "ipython",
    "version": 3
   },
   "file_extension": ".py",
   "mimetype": "text/x-python",
   "name": "python",
   "nbconvert_exporter": "python",
   "pygments_lexer": "ipython3",
   "version": "3.7.1"
  }
 },
 "nbformat": 4,
 "nbformat_minor": 2
}
