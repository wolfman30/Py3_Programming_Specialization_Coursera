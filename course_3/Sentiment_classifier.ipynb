{
 "cells": [
  {
   "cell_type": "markdown",
   "metadata": {},
   "source": [
    "We have provided some synthetic (fake, semi-randomly generated) twitter data in a csv file named project_twitter_data.csv which has the text of a tweet, the number of retweets of that tweet, and the number of replies to that tweet. We have also words that express positive sentiment and negative sentiment, in the files positive_words.txt and negative_words.txt.\n",
    "\n",
    "Your task is to build a sentiment classifier, which will detect how positive or negative each tweet is. You will create a csv file, which contains columns for the Number of Retweets, Number of Replies, Positive Score (which is how many happy words are in the tweet), Negative Score (which is how many angry words are in the tweet), and the Net Score for each tweet. At the end, you upload the csv file to Excel or Google Sheets, and produce a graph of the Net Score vs Number of Retweets.\n",
    "\n",
    "To start, define a function called strip_punctuation which takes one parameter, a string which represents a word, and removes characters considered punctuation from everywhere in the word. (Hint: remember the .replace() method for strings.)"
   ]
  },
  {
   "cell_type": "code",
   "execution_count": 5,
   "metadata": {},
   "outputs": [
    {
     "data": {
      "text/plain": [
       "'Amazing'"
      ]
     },
     "execution_count": 5,
     "metadata": {},
     "output_type": "execute_result"
    }
   ],
   "source": [
    "punctuation_chars = [\"'\", '\"', \",\", \".\", \"!\", \":\", \";\", '#', '@']\n",
    "\n",
    "def strip_punctuation(word): \n",
    "    for char in word:\n",
    "        if char in punctuation_chars: \n",
    "            word = word.replace(char, '')\n",
    "    return word\n",
    "\n",
    "strip_punctuation(\"#Amazing!\") #should return Amazing"
   ]
  },
  {
   "cell_type": "markdown",
   "metadata": {},
   "source": [
    "Next, copy in your strip_punctuation function and define a function called get_pos which takes one parameter, a string which represents one or more sentences, and calculates how many words in the string are considered positive words. Use the list, positive_words to determine what words will count as positive. The function should return a positive integer - how many occurrences there are of positive words in the text. Note that all of the words in positive_words are lower cased, so you’ll need to convert all the words in the input string to lower case as well."
   ]
  },
  {
   "cell_type": "code",
   "execution_count": 6,
   "metadata": {},
   "outputs": [
    {
     "ename": "FileNotFoundError",
     "evalue": "[Errno 2] No such file or directory: 'positive_words.txt'",
     "output_type": "error",
     "traceback": [
      "\u001b[1;31m---------------------------------------------------------------------------\u001b[0m",
      "\u001b[1;31mFileNotFoundError\u001b[0m                         Traceback (most recent call last)",
      "\u001b[1;32m<ipython-input-6-4b9ebb225d1a>\u001b[0m in \u001b[0;36m<module>\u001b[1;34m\u001b[0m\n\u001b[0;32m     28\u001b[0m \u001b[1;31m# list of positive words to use in get_pos() for count\u001b[0m\u001b[1;33m\u001b[0m\u001b[1;33m\u001b[0m\u001b[1;33m\u001b[0m\u001b[0m\n\u001b[0;32m     29\u001b[0m \u001b[0mpositive_words\u001b[0m \u001b[1;33m=\u001b[0m \u001b[1;33m[\u001b[0m\u001b[1;33m]\u001b[0m\u001b[1;33m\u001b[0m\u001b[1;33m\u001b[0m\u001b[0m\n\u001b[1;32m---> 30\u001b[1;33m \u001b[1;32mwith\u001b[0m \u001b[0mopen\u001b[0m\u001b[1;33m(\u001b[0m\u001b[1;34m\"positive_words.txt\"\u001b[0m\u001b[1;33m)\u001b[0m \u001b[1;32mas\u001b[0m \u001b[0mpos_f\u001b[0m\u001b[1;33m:\u001b[0m\u001b[1;33m\u001b[0m\u001b[1;33m\u001b[0m\u001b[0m\n\u001b[0m\u001b[0;32m     31\u001b[0m     \u001b[1;32mfor\u001b[0m \u001b[0mlin\u001b[0m \u001b[1;32min\u001b[0m \u001b[0mpos_f\u001b[0m\u001b[1;33m:\u001b[0m\u001b[1;33m\u001b[0m\u001b[1;33m\u001b[0m\u001b[0m\n\u001b[0;32m     32\u001b[0m         \u001b[1;32mif\u001b[0m \u001b[0mlin\u001b[0m\u001b[1;33m[\u001b[0m\u001b[1;36m0\u001b[0m\u001b[1;33m]\u001b[0m \u001b[1;33m!=\u001b[0m \u001b[1;34m';'\u001b[0m \u001b[1;32mand\u001b[0m \u001b[0mlin\u001b[0m\u001b[1;33m[\u001b[0m\u001b[1;36m0\u001b[0m\u001b[1;33m]\u001b[0m \u001b[1;33m!=\u001b[0m \u001b[1;34m'\\n'\u001b[0m\u001b[1;33m:\u001b[0m\u001b[1;33m\u001b[0m\u001b[1;33m\u001b[0m\u001b[0m\n",
      "\u001b[1;31mFileNotFoundError\u001b[0m: [Errno 2] No such file or directory: 'positive_words.txt'"
     ]
    }
   ],
   "source": [
    "\n",
    "punctuation_chars = [\"'\", '\"', \",\", \".\", \"!\", \":\", \";\", '#', '@']\n",
    "\n",
    "def strip_punctuation(word): \n",
    "    for char in word:\n",
    "        if char in punctuation_chars: \n",
    "            word = word.replace(char, '')\n",
    "    return word \n",
    "\n",
    "def get_pos(sentence):\n",
    "    '''\n",
    "    gets the number of positive words in one or more sentences. \n",
    "    Uses the strip_punctuation() to eliminate punctuation marks from a \n",
    "    positive word so this word can be counted from the positive_words\n",
    "    list\n",
    "    '''\n",
    "    pos_count = 0 #accumulator variable\n",
    "    \n",
    "    for word in sentence.lower().split(): #lowercases and splits words into list\n",
    "      \n",
    "        word = strip_punctuation(word) #strips away punctuation such as # or !\n",
    "        \n",
    "        if word in positive_words: #checks if word is in positive_words list\n",
    "            pos_count += 1 #increments accumulator var by 1 if so\n",
    "            \n",
    "    return pos_count #returns the final positive word count outside for loop\n",
    "\n",
    "# list of positive words to use in get_pos() for count\n",
    "positive_words = []\n",
    "with open(\"positive_words.txt\") as pos_f:\n",
    "    for lin in pos_f:\n",
    "        if lin[0] != ';' and lin[0] != '\\n':\n",
    "            positive_words.append(lin.strip())\n",
    "            \n",
    "print(positive_words)\n",
    "\n"
   ]
  },
  {
   "cell_type": "markdown",
   "metadata": {},
   "source": [
    "Next, copy in your strip_punctuation function and define a function called get_neg which takes one parameter, a string which represents one or more sentences, and calculates how many words in the string are considered negative words. Use the list, negative_words to determine what words will count as negative. The function should return a positive integer - how many occurrences there are of negative words in the text. Note that all of the words in negative_words are lower cased, so you’ll need to convert all the words in the input string to lower case as well."
   ]
  },
  {
   "cell_type": "code",
   "execution_count": 7,
   "metadata": {},
   "outputs": [
    {
     "ename": "FileNotFoundError",
     "evalue": "[Errno 2] No such file or directory: 'negative_words.txt'",
     "output_type": "error",
     "traceback": [
      "\u001b[1;31m---------------------------------------------------------------------------\u001b[0m",
      "\u001b[1;31mFileNotFoundError\u001b[0m                         Traceback (most recent call last)",
      "\u001b[1;32m<ipython-input-7-ce9f2a91b7f1>\u001b[0m in \u001b[0;36m<module>\u001b[1;34m\u001b[0m\n\u001b[0;32m      1\u001b[0m \u001b[0mnegative_words\u001b[0m \u001b[1;33m=\u001b[0m \u001b[1;33m[\u001b[0m\u001b[1;33m]\u001b[0m\u001b[1;33m\u001b[0m\u001b[1;33m\u001b[0m\u001b[0m\n\u001b[1;32m----> 2\u001b[1;33m \u001b[1;32mwith\u001b[0m \u001b[0mopen\u001b[0m\u001b[1;33m(\u001b[0m\u001b[1;34m\"negative_words.txt\"\u001b[0m\u001b[1;33m)\u001b[0m \u001b[1;32mas\u001b[0m \u001b[0mneg_f\u001b[0m\u001b[1;33m:\u001b[0m\u001b[1;33m\u001b[0m\u001b[1;33m\u001b[0m\u001b[0m\n\u001b[0m\u001b[0;32m      3\u001b[0m     \u001b[1;32mfor\u001b[0m \u001b[0mlin\u001b[0m \u001b[1;32min\u001b[0m \u001b[0mneg_f\u001b[0m\u001b[1;33m:\u001b[0m\u001b[1;33m\u001b[0m\u001b[1;33m\u001b[0m\u001b[0m\n\u001b[0;32m      4\u001b[0m         \u001b[1;32mif\u001b[0m \u001b[0mlin\u001b[0m\u001b[1;33m[\u001b[0m\u001b[1;36m0\u001b[0m\u001b[1;33m]\u001b[0m \u001b[1;33m!=\u001b[0m \u001b[1;34m';'\u001b[0m \u001b[1;32mand\u001b[0m \u001b[0mlin\u001b[0m\u001b[1;33m[\u001b[0m\u001b[1;36m0\u001b[0m\u001b[1;33m]\u001b[0m \u001b[1;33m!=\u001b[0m \u001b[1;34m'\\n'\u001b[0m\u001b[1;33m:\u001b[0m\u001b[1;33m\u001b[0m\u001b[1;33m\u001b[0m\u001b[0m\n\u001b[0;32m      5\u001b[0m             \u001b[0mnegative_words\u001b[0m\u001b[1;33m.\u001b[0m\u001b[0mappend\u001b[0m\u001b[1;33m(\u001b[0m\u001b[0mlin\u001b[0m\u001b[1;33m.\u001b[0m\u001b[0mstrip\u001b[0m\u001b[1;33m(\u001b[0m\u001b[1;33m)\u001b[0m\u001b[1;33m)\u001b[0m\u001b[1;33m\u001b[0m\u001b[1;33m\u001b[0m\u001b[0m\n",
      "\u001b[1;31mFileNotFoundError\u001b[0m: [Errno 2] No such file or directory: 'negative_words.txt'"
     ]
    }
   ],
   "source": [
    "negative_words = []\n",
    "with open(\"negative_words.txt\") as neg_f:\n",
    "    for lin in neg_f:\n",
    "        if lin[0] != ';' and lin[0] != '\\n':\n",
    "            negative_words.append(lin.strip())\n",
    "            \n",
    "def get_neg(sentence):\n",
    "    \n",
    "    neg_count = 0 #initialize accumulator variable as before\n",
    "    \n",
    "    for word in sentence.lower().split():\n",
    "        \n",
    "        word = strip_punctuation(word)\n",
    "        \n",
    "        if word in negative_words: \n",
    "            neg_count += 1\n",
    "            \n",
    "    return neg_count "
   ]
  },
  {
   "cell_type": "markdown",
   "metadata": {},
   "source": [
    "Finally, copy in your previous functions and write code that opens the file project_twitter_data.csv which has the fake generated twitter data (the text of a tweet, the number of retweets of that tweet, and the number of replies to that tweet). Your task is to build a sentiment classifier, which will detect how positive or negative each tweet is. Copy the code from the code windows above, and put that in the top of this code window. Now, you will write code to create a csv file called resulting_data.csv, which contains the Number of Retweets, Number of Replies, Positive Score (which is how many happy words are in the tweet), Negative Score (which is how many angry words are in the tweet), and the Net Score (how positive or negative the text is overall) for each tweet. The file should have those headers in that order. Remember that there is another component to this project. You will upload the csv file to Excel or Google Sheets and produce a graph of the Net Score vs Number of Retweets. Check Coursera for that portion of the assignment, if you’re accessing this textbook from Coursera."
   ]
  },
  {
   "cell_type": "code",
   "execution_count": null,
   "metadata": {},
   "outputs": [],
   "source": [
    "'''\n",
    "This is the final work of everything needed to create the sentiment classifier (except for the text and csv files)\n",
    "\n",
    "'''\n",
    "punctuation_chars = [\"'\", '\"', \",\", \".\", \"!\", \":\", \";\", '#', '@']\n",
    "\n",
    "# lists of words to use\n",
    "positive_words = []\n",
    "with open(\"positive_words.txt\") as pos_f:\n",
    "    for lin in pos_f:\n",
    "        if lin[0] != ';' and lin[0] != '\\n':\n",
    "            positive_words.append(lin.strip())\n",
    "\n",
    "\n",
    "negative_words = []\n",
    "with open(\"negative_words.txt\") as pos_f:\n",
    "    for lin in pos_f:\n",
    "        if lin[0] != ';' and lin[0] != '\\n':\n",
    "            negative_words.append(lin.strip())\n",
    "            \n",
    "            \n",
    "def strip_punctuation(word): \n",
    "    for char in word:\n",
    "        if char in punctuation_chars: \n",
    "            word = word.replace(char, '')\n",
    "    return word \n",
    "\n",
    "def get_pos(sentence):\n",
    "    '''\n",
    "    gets the number of positive words in one or more sentences. \n",
    "    Uses the strip_punctuation() to eliminate punctuation marks from a \n",
    "    positive word so this word can be counted from the positive_words\n",
    "    list\n",
    "    '''\n",
    "    pos_count = 0 #accumulator variable\n",
    "    \n",
    "    for word in sentence.lower().split(): #lowercases and splits words into list\n",
    "      \n",
    "        word = strip_punctuation(word) #strips away punctuation such as # or !\n",
    "        \n",
    "        if word in positive_words: #checks if word is in positive_words list\n",
    "            pos_count += 1 #increments accumulator var by 1 if so\n",
    "            \n",
    "    return pos_count #returns the final positive word count outside for loop\n",
    "\n",
    "            \n",
    "def get_neg(sentence):\n",
    "    \n",
    "    neg_count = 0 #initialize accumulator variable as before\n",
    "    \n",
    "    for word in sentence.lower().split():\n",
    "        word = strip_punctuation(word)\n",
    "        if word in negative_words: \n",
    "            neg_count += 1\n",
    "            \n",
    "    return neg_count \n",
    "\n",
    "with open('project_twitter_data.csv', 'r') as ptd:\n",
    "    results = []\n",
    "    for line in ptd.readlines()[1:]: \n",
    "        line = line.strip().split(',')\n",
    "        print(line)\n",
    "        pos_score = get_pos(line[0])\n",
    "        neg_score = get_neg(line[0])\n",
    "        net_score = pos_score - neg_score\n",
    "        retweet_num = line[1]\n",
    "        reply_count = line[2]\n",
    "        results.append((retweet_num, reply_count, pos_score, neg_score, net_score))\n",
    "    print('\\n',results)\n",
    "    print(len(results))\n",
    "    \n",
    "with open('resulting_data.csv', 'w') as rd: \n",
    "    rd.write(\"Number of Retweets, Number of Replies, Positive Score, Negative Score, Net Score\\n\")\n",
    "    for tup in results:\n",
    "        retweet_num, reply_count, pos_score, neg_score, net_score = tup\n",
    "        rd.write(\"{}, {}, {}, {}, {}\\n\".format(retweet_num, reply_count, pos_score, neg_score, net_score))\n",
    "    "
   ]
  }
 ],
 "metadata": {
  "kernelspec": {
   "display_name": "Python 3",
   "language": "python",
   "name": "python3"
  },
  "language_info": {
   "codemirror_mode": {
    "name": "ipython",
    "version": 3
   },
   "file_extension": ".py",
   "mimetype": "text/x-python",
   "name": "python",
   "nbconvert_exporter": "python",
   "pygments_lexer": "ipython3",
   "version": "3.7.1"
  }
 },
 "nbformat": 4,
 "nbformat_minor": 2
}
